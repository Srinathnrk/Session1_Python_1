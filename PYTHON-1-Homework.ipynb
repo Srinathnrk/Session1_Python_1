{
 "cells": [
  {
   "cell_type": "markdown",
   "metadata": {},
   "source": [
    "**Question 1: Write a Python program to print the following string in a specific format**\n",
    "\n",
    "Sample String : \"Twinkle, twinkle, little star, How I wonder what you are! Up above the world so high, Like a diamond in the sky. Twinkle, twinkle, little star, How I wonder what you are\"\n",
    "<br><br>\n",
    "Formatted Output\n",
    "<pre>Twinkle, twinkle, little star,\n",
    "\tHow I wonder what you are! \n",
    "\t\tUp above the world so high,   \t\t\n",
    "\t\tLike a diamond in the sky. \n",
    "Twinkle, twinkle, little star, \n",
    "\tHow I wonder what you are<pre>"
   ]
  },
  {
   "cell_type": "code",
   "execution_count": 10,
   "metadata": {},
   "outputs": [
    {
     "name": "stdout",
     "output_type": "stream",
     "text": [
      "    Twinkle, twinkle, little star,\n",
      "\n",
      "        How I wonder what you are!\n",
      "\n",
      "            Up above the world so high,\n",
      "\n",
      "            Like a diamond in the sky.\n",
      "\n",
      "    Twinkle, twinkle, little star,\n",
      "\n",
      "        How I wonder what you are\n"
     ]
    }
   ],
   "source": [
    "text = \"\"\"\\tTwinkle, twinkle, little star,\\n\n",
    "\\t\\tHow I wonder what you are!\\n\n",
    "\\t\\t\\tUp above the world so high,\\n\n",
    "\\t\\t\\tLike a diamond in the sky.\\n\n",
    "\\tTwinkle, twinkle, little star,\\n\n",
    "\\t\\tHow I wonder what you are\"\"\"\n",
    "\n",
    "\n",
    "print(text.expandtabs(4))\n",
    "\n"
   ]
  },
  {
   "cell_type": "markdown",
   "metadata": {},
   "source": [
    " **Question 2: Write a Python program which accepts the radius of a circle from the user and compute the area.** <br>\n",
    "Sample Input & Output : <br>\n",
    "r = 1.1 <br>\n",
    "Area = 3.8013271108436504"
   ]
  },
  {
   "cell_type": "code",
   "execution_count": 14,
   "metadata": {},
   "outputs": [
    {
     "name": "stdout",
     "output_type": "stream",
     "text": [
      "r = 1.1\n",
      "Area = 3.8013271108436504\n"
     ]
    }
   ],
   "source": [
    "import math\n",
    "\n",
    "r = input(\"r = \")\n",
    "r = float(r)\n",
    "area = math.pi*r**2\n",
    "\n",
    "print(\"Area =\", area)"
   ]
  },
  {
   "cell_type": "markdown",
   "metadata": {},
   "source": [
    "**Question 3: Write a Python program to get the difference between a given number and 17, if the number is greater than 17 return double the absolute difference.**"
   ]
  },
  {
   "cell_type": "code",
   "execution_count": 17,
   "metadata": {},
   "outputs": [
    {
     "name": "stdout",
     "output_type": "stream",
     "text": [
      "Enter the number:15\n",
      "Difference is -2\n"
     ]
    }
   ],
   "source": [
    "num = input(\"Enter the number:\")\n",
    "num = int(num)\n",
    "if(num>17):\n",
    "    diff = (num-17)*2\n",
    "else:\n",
    "    diff = num-17\n",
    "\n",
    "print(\"Difference is\", diff)"
   ]
  },
  {
   "cell_type": "markdown",
   "metadata": {},
   "source": [
    "**Question 4: Write a Python program to find whether a given number (accept from the user) is even or odd, print out an appropriate message to the user.**"
   ]
  },
  {
   "cell_type": "code",
   "execution_count": 22,
   "metadata": {},
   "outputs": [
    {
     "name": "stdout",
     "output_type": "stream",
     "text": [
      "Enter the number:4\n",
      "Number is even.\n"
     ]
    }
   ],
   "source": [
    "num = input(\"Enter the number:\")\n",
    "num = int(num)\n",
    "if(num%2==0):\n",
    "    print(\"Number is even.\")\n",
    "else:\n",
    "    print(\"Number is odd.\")"
   ]
  },
  {
   "cell_type": "markdown",
   "metadata": {},
   "source": [
    "**Question 5: Write a Python program to count the number 4 in a given list**"
   ]
  },
  {
   "cell_type": "code",
   "execution_count": 25,
   "metadata": {},
   "outputs": [
    {
     "name": "stdout",
     "output_type": "stream",
     "text": [
      "number 4 occurs 2 times\n"
     ]
    }
   ],
   "source": [
    "lst = [1,2,3,4,5,6,7,8,4,5,3]\n",
    "count=0\n",
    "for num in lst:\n",
    "    if(num==4):\n",
    "        count+=1\n",
    "else:\n",
    "    print(\"number 4 occurs {} times\".format(count))"
   ]
  },
  {
   "cell_type": "markdown",
   "metadata": {},
   "source": [
    "**Question 6 : Write a Python program to count the number of even and odd numbers from a series of numbers. Go to the editor** <br>\n",
    "Sample numbers : numbers = (1, 2, 3, 4, 5, 6, 7, 8, 9) <br>\n",
    "Expected Output : <br>\n",
    "Number of even numbers : 5<br> \n",
    "Number of odd numbers : 4"
   ]
  },
  {
   "cell_type": "code",
   "execution_count": 23,
   "metadata": {},
   "outputs": [
    {
     "name": "stdout",
     "output_type": "stream",
     "text": [
      "Number of even numbers : 4\n",
      "Number of odd numbers : 5\n"
     ]
    }
   ],
   "source": [
    "numbers = [1, 2, 3, 4, 5, 6, 7, 8, 9]\n",
    "even_count=0\n",
    "odd_count=0\n",
    "for num in numbers:\n",
    "    if(num%2==0):\n",
    "        even_count += 1\n",
    "    else:\n",
    "        odd_count += 1\n",
    "else:\n",
    "    print(\"Number of even numbers :\", even_count)\n",
    "    print(\"Number of odd numbers :\", odd_count)\n",
    "        "
   ]
  }
 ],
 "metadata": {
  "kernelspec": {
   "display_name": "Python 3",
   "language": "python",
   "name": "python3"
  },
  "language_info": {
   "codemirror_mode": {
    "name": "ipython",
    "version": 3
   },
   "file_extension": ".py",
   "mimetype": "text/x-python",
   "name": "python",
   "nbconvert_exporter": "python",
   "pygments_lexer": "ipython3",
   "version": "3.7.1"
  }
 },
 "nbformat": 4,
 "nbformat_minor": 2
}
